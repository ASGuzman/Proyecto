{
 "cells": [
  {
   "cell_type": "code",
   "execution_count": 2,
   "metadata": {},
   "outputs": [],
   "source": [
    "import pandas as pd\n",
    "import numpy as np\n",
    "import matplotlib.pyplot as plt\n",
    "import seaborn as sns"
   ]
  },
  {
   "cell_type": "code",
   "execution_count": 3,
   "metadata": {},
   "outputs": [
    {
     "name": "stderr",
     "output_type": "stream",
     "text": [
      "C:\\Users\\aylen\\AppData\\Local\\Temp\\ipykernel_11868\\2714530337.py:1: DtypeWarning: Columns (2) have mixed types. Specify dtype option on import or set low_memory=False.\n",
      "  archivo = pd.read_csv('Call_Center_1999_DataSet.csv', sep=';')\n"
     ]
    },
    {
     "data": {
      "text/html": [
       "<div>\n",
       "<style scoped>\n",
       "    .dataframe tbody tr th:only-of-type {\n",
       "        vertical-align: middle;\n",
       "    }\n",
       "\n",
       "    .dataframe tbody tr th {\n",
       "        vertical-align: top;\n",
       "    }\n",
       "\n",
       "    .dataframe thead th {\n",
       "        text-align: right;\n",
       "    }\n",
       "</style>\n",
       "<table border=\"1\" class=\"dataframe\">\n",
       "  <thead>\n",
       "    <tr style=\"text-align: right;\">\n",
       "      <th></th>\n",
       "      <th>vru.line</th>\n",
       "      <th>call_id</th>\n",
       "      <th>customer_id</th>\n",
       "      <th>priority</th>\n",
       "      <th>type</th>\n",
       "      <th>date</th>\n",
       "      <th>vru_entry</th>\n",
       "      <th>vru_exit</th>\n",
       "      <th>vru_time</th>\n",
       "      <th>q_start</th>\n",
       "      <th>q_exit</th>\n",
       "      <th>q_time</th>\n",
       "      <th>outcome</th>\n",
       "      <th>ser_start</th>\n",
       "      <th>ser_exit</th>\n",
       "      <th>ser_time</th>\n",
       "      <th>server</th>\n",
       "      <th>startdate</th>\n",
       "    </tr>\n",
       "  </thead>\n",
       "  <tbody>\n",
       "    <tr>\n",
       "      <th>0</th>\n",
       "      <td>AA0101</td>\n",
       "      <td>33116</td>\n",
       "      <td>9664491.0</td>\n",
       "      <td>2</td>\n",
       "      <td>PS</td>\n",
       "      <td>1999-01-01</td>\n",
       "      <td>0:00:31</td>\n",
       "      <td>0:00:36</td>\n",
       "      <td>5</td>\n",
       "      <td>0:00:36</td>\n",
       "      <td>0:03:09</td>\n",
       "      <td>153</td>\n",
       "      <td>HANG</td>\n",
       "      <td>0:00:00</td>\n",
       "      <td>0:00:00</td>\n",
       "      <td>0</td>\n",
       "      <td>NO_SERVER</td>\n",
       "      <td>0</td>\n",
       "    </tr>\n",
       "    <tr>\n",
       "      <th>1</th>\n",
       "      <td>AA0101</td>\n",
       "      <td>33117</td>\n",
       "      <td>0.0</td>\n",
       "      <td>0</td>\n",
       "      <td>PS</td>\n",
       "      <td>1999-01-01</td>\n",
       "      <td>0:34:12</td>\n",
       "      <td>0:34:23</td>\n",
       "      <td>11</td>\n",
       "      <td>0:00:00</td>\n",
       "      <td>0:00:00</td>\n",
       "      <td>0</td>\n",
       "      <td>HANG</td>\n",
       "      <td>0:00:00</td>\n",
       "      <td>0:00:00</td>\n",
       "      <td>0</td>\n",
       "      <td>NO_SERVER</td>\n",
       "      <td>0</td>\n",
       "    </tr>\n",
       "    <tr>\n",
       "      <th>2</th>\n",
       "      <td>AA0101</td>\n",
       "      <td>33118</td>\n",
       "      <td>27997683.0</td>\n",
       "      <td>2</td>\n",
       "      <td>PS</td>\n",
       "      <td>1999-01-01</td>\n",
       "      <td>6:55:20</td>\n",
       "      <td>6:55:26</td>\n",
       "      <td>6</td>\n",
       "      <td>6:55:26</td>\n",
       "      <td>6:55:43</td>\n",
       "      <td>17</td>\n",
       "      <td>AGENT</td>\n",
       "      <td>6:55:43</td>\n",
       "      <td>6:56:37</td>\n",
       "      <td>54</td>\n",
       "      <td>MICHAL</td>\n",
       "      <td>0</td>\n",
       "    </tr>\n",
       "    <tr>\n",
       "      <th>3</th>\n",
       "      <td>AA0101</td>\n",
       "      <td>33119</td>\n",
       "      <td>0.0</td>\n",
       "      <td>0</td>\n",
       "      <td>PS</td>\n",
       "      <td>1999-01-01</td>\n",
       "      <td>7:41:16</td>\n",
       "      <td>7:41:26</td>\n",
       "      <td>10</td>\n",
       "      <td>0:00:00</td>\n",
       "      <td>0:00:00</td>\n",
       "      <td>0</td>\n",
       "      <td>AGENT</td>\n",
       "      <td>7:41:25</td>\n",
       "      <td>7:44:53</td>\n",
       "      <td>208</td>\n",
       "      <td>BASCH</td>\n",
       "      <td>0</td>\n",
       "    </tr>\n",
       "    <tr>\n",
       "      <th>4</th>\n",
       "      <td>AA0101</td>\n",
       "      <td>33120</td>\n",
       "      <td>0.0</td>\n",
       "      <td>0</td>\n",
       "      <td>PS</td>\n",
       "      <td>1999-01-01</td>\n",
       "      <td>8:03:14</td>\n",
       "      <td>8:03:24</td>\n",
       "      <td>10</td>\n",
       "      <td>0:00:00</td>\n",
       "      <td>0:00:00</td>\n",
       "      <td>0</td>\n",
       "      <td>AGENT</td>\n",
       "      <td>8:03:23</td>\n",
       "      <td>8:05:10</td>\n",
       "      <td>107</td>\n",
       "      <td>MICHAL</td>\n",
       "      <td>0</td>\n",
       "    </tr>\n",
       "    <tr>\n",
       "      <th>...</th>\n",
       "      <td>...</td>\n",
       "      <td>...</td>\n",
       "      <td>...</td>\n",
       "      <td>...</td>\n",
       "      <td>...</td>\n",
       "      <td>...</td>\n",
       "      <td>...</td>\n",
       "      <td>...</td>\n",
       "      <td>...</td>\n",
       "      <td>...</td>\n",
       "      <td>...</td>\n",
       "      <td>...</td>\n",
       "      <td>...</td>\n",
       "      <td>...</td>\n",
       "      <td>...</td>\n",
       "      <td>...</td>\n",
       "      <td>...</td>\n",
       "      <td>...</td>\n",
       "    </tr>\n",
       "    <tr>\n",
       "      <th>444443</th>\n",
       "      <td>AA0216</td>\n",
       "      <td>17211</td>\n",
       "      <td>0.0</td>\n",
       "      <td>0</td>\n",
       "      <td>IN</td>\n",
       "      <td>1999-12-31</td>\n",
       "      <td>13:46:51</td>\n",
       "      <td>13:47:04</td>\n",
       "      <td>13</td>\n",
       "      <td>0:00:00</td>\n",
       "      <td>0:00:00</td>\n",
       "      <td>0</td>\n",
       "      <td>AGENT</td>\n",
       "      <td>13:47:03</td>\n",
       "      <td>13:56:16</td>\n",
       "      <td>553</td>\n",
       "      <td>Z2ELINOR</td>\n",
       "      <td>334</td>\n",
       "    </tr>\n",
       "    <tr>\n",
       "      <th>444444</th>\n",
       "      <td>AA0216</td>\n",
       "      <td>17212</td>\n",
       "      <td>0.0</td>\n",
       "      <td>0</td>\n",
       "      <td>IN</td>\n",
       "      <td>1999-12-31</td>\n",
       "      <td>13:58:31</td>\n",
       "      <td>13:58:40</td>\n",
       "      <td>9</td>\n",
       "      <td>13:58:40</td>\n",
       "      <td>13:59:49</td>\n",
       "      <td>69</td>\n",
       "      <td>HANG</td>\n",
       "      <td>0:00:00</td>\n",
       "      <td>0:00:00</td>\n",
       "      <td>0</td>\n",
       "      <td>NO_SERVER</td>\n",
       "      <td>334</td>\n",
       "    </tr>\n",
       "    <tr>\n",
       "      <th>444445</th>\n",
       "      <td>AA0216</td>\n",
       "      <td>17213</td>\n",
       "      <td>0.0</td>\n",
       "      <td>0</td>\n",
       "      <td>IN</td>\n",
       "      <td>1999-12-31</td>\n",
       "      <td>17:10:51</td>\n",
       "      <td>17:11:12</td>\n",
       "      <td>21</td>\n",
       "      <td>0:00:00</td>\n",
       "      <td>0:00:00</td>\n",
       "      <td>0</td>\n",
       "      <td>HANG</td>\n",
       "      <td>0:00:00</td>\n",
       "      <td>0:00:00</td>\n",
       "      <td>0</td>\n",
       "      <td>NO_SERVER</td>\n",
       "      <td>334</td>\n",
       "    </tr>\n",
       "    <tr>\n",
       "      <th>444446</th>\n",
       "      <td>AA0216</td>\n",
       "      <td>17214</td>\n",
       "      <td>0.0</td>\n",
       "      <td>0</td>\n",
       "      <td>IN</td>\n",
       "      <td>1999-12-31</td>\n",
       "      <td>18:30:19</td>\n",
       "      <td>18:30:54</td>\n",
       "      <td>35</td>\n",
       "      <td>0:00:00</td>\n",
       "      <td>0:00:00</td>\n",
       "      <td>0</td>\n",
       "      <td>HANG</td>\n",
       "      <td>0:00:00</td>\n",
       "      <td>0:00:00</td>\n",
       "      <td>0</td>\n",
       "      <td>NO_SERVER</td>\n",
       "      <td>334</td>\n",
       "    </tr>\n",
       "    <tr>\n",
       "      <th>444447</th>\n",
       "      <td>AA0216</td>\n",
       "      <td>17215</td>\n",
       "      <td>0.0</td>\n",
       "      <td>0</td>\n",
       "      <td>IN</td>\n",
       "      <td>1999-12-31</td>\n",
       "      <td>22:23:35</td>\n",
       "      <td>22:23:45</td>\n",
       "      <td>10</td>\n",
       "      <td>0:00:00</td>\n",
       "      <td>0:00:00</td>\n",
       "      <td>0</td>\n",
       "      <td>HANG</td>\n",
       "      <td>0:00:00</td>\n",
       "      <td>0:00:00</td>\n",
       "      <td>0</td>\n",
       "      <td>NO_SERVER</td>\n",
       "      <td>334</td>\n",
       "    </tr>\n",
       "  </tbody>\n",
       "</table>\n",
       "<p>444448 rows × 18 columns</p>\n",
       "</div>"
      ],
      "text/plain": [
       "       vru.line  call_id customer_id  priority type        date vru_entry  \\\n",
       "0        AA0101    33116   9664491.0         2   PS  1999-01-01   0:00:31   \n",
       "1        AA0101    33117         0.0         0   PS  1999-01-01   0:34:12   \n",
       "2        AA0101    33118  27997683.0         2   PS  1999-01-01   6:55:20   \n",
       "3        AA0101    33119         0.0         0   PS  1999-01-01   7:41:16   \n",
       "4        AA0101    33120         0.0         0   PS  1999-01-01   8:03:14   \n",
       "...         ...      ...         ...       ...  ...         ...       ...   \n",
       "444443   AA0216    17211         0.0         0   IN  1999-12-31  13:46:51   \n",
       "444444   AA0216    17212         0.0         0   IN  1999-12-31  13:58:31   \n",
       "444445   AA0216    17213         0.0         0   IN  1999-12-31  17:10:51   \n",
       "444446   AA0216    17214         0.0         0   IN  1999-12-31  18:30:19   \n",
       "444447   AA0216    17215         0.0         0   IN  1999-12-31  22:23:35   \n",
       "\n",
       "        vru_exit  vru_time   q_start    q_exit  q_time outcome ser_start  \\\n",
       "0        0:00:36         5   0:00:36   0:03:09     153    HANG   0:00:00   \n",
       "1        0:34:23        11   0:00:00   0:00:00       0    HANG   0:00:00   \n",
       "2        6:55:26         6   6:55:26   6:55:43      17   AGENT   6:55:43   \n",
       "3        7:41:26        10   0:00:00   0:00:00       0   AGENT   7:41:25   \n",
       "4        8:03:24        10   0:00:00   0:00:00       0   AGENT   8:03:23   \n",
       "...          ...       ...       ...       ...     ...     ...       ...   \n",
       "444443  13:47:04        13   0:00:00   0:00:00       0   AGENT  13:47:03   \n",
       "444444  13:58:40         9  13:58:40  13:59:49      69    HANG   0:00:00   \n",
       "444445  17:11:12        21   0:00:00   0:00:00       0    HANG   0:00:00   \n",
       "444446  18:30:54        35   0:00:00   0:00:00       0    HANG   0:00:00   \n",
       "444447  22:23:45        10   0:00:00   0:00:00       0    HANG   0:00:00   \n",
       "\n",
       "        ser_exit  ser_time     server  startdate  \n",
       "0        0:00:00         0  NO_SERVER          0  \n",
       "1        0:00:00         0  NO_SERVER          0  \n",
       "2        6:56:37        54     MICHAL          0  \n",
       "3        7:44:53       208      BASCH          0  \n",
       "4        8:05:10       107     MICHAL          0  \n",
       "...          ...       ...        ...        ...  \n",
       "444443  13:56:16       553   Z2ELINOR        334  \n",
       "444444   0:00:00         0  NO_SERVER        334  \n",
       "444445   0:00:00         0  NO_SERVER        334  \n",
       "444446   0:00:00         0  NO_SERVER        334  \n",
       "444447   0:00:00         0  NO_SERVER        334  \n",
       "\n",
       "[444448 rows x 18 columns]"
      ]
     },
     "execution_count": 3,
     "metadata": {},
     "output_type": "execute_result"
    }
   ],
   "source": [
    "archivo = pd.read_csv('Call_Center_1999_DataSet.csv', sep=';')\n",
    "archivo"
   ]
  },
  {
   "cell_type": "code",
   "execution_count": 4,
   "metadata": {},
   "outputs": [
    {
     "data": {
      "text/plain": [
       "Index(['vru.line', 'call_id', 'customer_id', 'priority', 'type', 'date',\n",
       "       'vru_entry', 'vru_exit', 'vru_time', 'q_start', 'q_exit', 'q_time',\n",
       "       'outcome', 'ser_start', 'ser_exit', 'ser_time', 'server', 'startdate'],\n",
       "      dtype='object')"
      ]
     },
     "execution_count": 4,
     "metadata": {},
     "output_type": "execute_result"
    }
   ],
   "source": [
    "#Nombre de las variables del archivo\n",
    "archivo.columns"
   ]
  },
  {
   "cell_type": "code",
   "execution_count": 5,
   "metadata": {},
   "outputs": [
    {
     "name": "stdout",
     "output_type": "stream",
     "text": [
      "El conjunto de datos tiene 444448 filas y 18 columnas.\n"
     ]
    }
   ],
   "source": [
    "#Dimensiones del archivo\n",
    "filas, columnas = archivo.shape\n",
    "print(f'El conjunto de datos tiene {filas} filas y {columnas} columnas.')"
   ]
  },
  {
   "cell_type": "code",
   "execution_count": 6,
   "metadata": {},
   "outputs": [
    {
     "name": "stdout",
     "output_type": "stream",
     "text": [
      "<class 'pandas.core.frame.DataFrame'>\n",
      "RangeIndex: 444448 entries, 0 to 444447\n",
      "Data columns (total 18 columns):\n",
      " #   Column       Non-Null Count   Dtype \n",
      "---  ------       --------------   ----- \n",
      " 0   vru.line     444448 non-null  object\n",
      " 1   call_id      444448 non-null  int64 \n",
      " 2   customer_id  444448 non-null  object\n",
      " 3   priority     444448 non-null  int64 \n",
      " 4   type         444448 non-null  object\n",
      " 5   date         444448 non-null  object\n",
      " 6   vru_entry    444448 non-null  object\n",
      " 7   vru_exit     444448 non-null  object\n",
      " 8   vru_time     444448 non-null  int64 \n",
      " 9   q_start      444448 non-null  object\n",
      " 10  q_exit       444448 non-null  object\n",
      " 11  q_time       444448 non-null  int64 \n",
      " 12  outcome      444448 non-null  object\n",
      " 13  ser_start    444448 non-null  object\n",
      " 14  ser_exit     444448 non-null  object\n",
      " 15  ser_time     444448 non-null  int64 \n",
      " 16  server       444448 non-null  object\n",
      " 17  startdate    444448 non-null  int64 \n",
      "dtypes: int64(6), object(12)\n",
      "memory usage: 61.0+ MB\n"
     ]
    }
   ],
   "source": [
    "#Corroboramos el tipo de dato de las variables y la cantidad de valores nulos de las mismas\n",
    "archivo.info()"
   ]
  },
  {
   "cell_type": "code",
   "execution_count": 7,
   "metadata": {},
   "outputs": [
    {
     "name": "stdout",
     "output_type": "stream",
     "text": [
      "vru.line       0\n",
      "call_id        0\n",
      "customer_id    0\n",
      "priority       0\n",
      "type           0\n",
      "date           0\n",
      "vru_entry      0\n",
      "vru_exit       0\n",
      "vru_time       0\n",
      "q_start        0\n",
      "q_exit         0\n",
      "q_time         0\n",
      "outcome        0\n",
      "ser_start      0\n",
      "ser_exit       0\n",
      "ser_time       0\n",
      "server         0\n",
      "startdate      0\n",
      "dtype: int64\n"
     ]
    }
   ],
   "source": [
    "#Confirmamos los valores nulos en el conjunto de datos\n",
    "print(archivo.isnull().sum())"
   ]
  },
  {
   "cell_type": "code",
   "execution_count": 8,
   "metadata": {},
   "outputs": [
    {
     "name": "stderr",
     "output_type": "stream",
     "text": [
      "C:\\Users\\aylen\\AppData\\Local\\Temp\\ipykernel_11868\\256341786.py:7: UserWarning: Could not infer format, so each element will be parsed individually, falling back to `dateutil`. To ensure parsing is consistent and as-expected, please specify a format.\n",
      "  archivo['vru_entry'] =pd.to_datetime(archivo['vru_entry'])\n",
      "C:\\Users\\aylen\\AppData\\Local\\Temp\\ipykernel_11868\\256341786.py:8: UserWarning: Could not infer format, so each element will be parsed individually, falling back to `dateutil`. To ensure parsing is consistent and as-expected, please specify a format.\n",
      "  archivo['vru_exit']  =pd.to_datetime(archivo['vru_exit'])\n",
      "C:\\Users\\aylen\\AppData\\Local\\Temp\\ipykernel_11868\\256341786.py:9: UserWarning: Could not infer format, so each element will be parsed individually, falling back to `dateutil`. To ensure parsing is consistent and as-expected, please specify a format.\n",
      "  archivo['q_start']   =pd.to_datetime(archivo['q_start'])\n",
      "C:\\Users\\aylen\\AppData\\Local\\Temp\\ipykernel_11868\\256341786.py:10: UserWarning: Could not infer format, so each element will be parsed individually, falling back to `dateutil`. To ensure parsing is consistent and as-expected, please specify a format.\n",
      "  archivo['q_exit']    =pd.to_datetime(archivo['q_exit'])\n",
      "C:\\Users\\aylen\\AppData\\Local\\Temp\\ipykernel_11868\\256341786.py:12: UserWarning: Could not infer format, so each element will be parsed individually, falling back to `dateutil`. To ensure parsing is consistent and as-expected, please specify a format.\n",
      "  archivo['ser_start'] =pd.to_datetime(archivo['ser_start'])\n",
      "C:\\Users\\aylen\\AppData\\Local\\Temp\\ipykernel_11868\\256341786.py:13: UserWarning: Could not infer format, so each element will be parsed individually, falling back to `dateutil`. To ensure parsing is consistent and as-expected, please specify a format.\n",
      "  archivo['ser_exit']  =pd.to_datetime(archivo['ser_exit'])\n"
     ]
    }
   ],
   "source": [
    "#Cambiamos los tipos de datos\n",
    "archivo['vru.line']  =archivo['vru.line'].astype('str')\n",
    "archivo['call_id']   =archivo['call_id'].astype('str')\n",
    "archivo['priority']  =archivo['priority'].astype('category')\n",
    "archivo['type']      =archivo['type'].astype('category')\n",
    "archivo['date']      =pd.to_datetime(archivo['date'])\n",
    "archivo['vru_entry'] =pd.to_datetime(archivo['vru_entry'])\n",
    "archivo['vru_exit']  =pd.to_datetime(archivo['vru_exit'])\n",
    "archivo['q_start']   =pd.to_datetime(archivo['q_start'])\n",
    "archivo['q_exit']    =pd.to_datetime(archivo['q_exit'])\n",
    "archivo['outcome']   =archivo['outcome'].astype('category')\n",
    "archivo['ser_start'] =pd.to_datetime(archivo['ser_start'])\n",
    "archivo['ser_exit']  =pd.to_datetime(archivo['ser_exit'])\n",
    "archivo['vru_entry'] =pd.to_datetime(archivo['vru_entry'])\n",
    "archivo['server']    =archivo['server'].astype('category')"
   ]
  },
  {
   "cell_type": "code",
   "execution_count": 9,
   "metadata": {},
   "outputs": [
    {
     "name": "stdout",
     "output_type": "stream",
     "text": [
      "<class 'pandas.core.frame.DataFrame'>\n",
      "RangeIndex: 444448 entries, 0 to 444447\n",
      "Data columns (total 18 columns):\n",
      " #   Column       Non-Null Count   Dtype         \n",
      "---  ------       --------------   -----         \n",
      " 0   vru.line     444448 non-null  object        \n",
      " 1   call_id      444448 non-null  object        \n",
      " 2   customer_id  444448 non-null  object        \n",
      " 3   priority     444448 non-null  category      \n",
      " 4   type         444448 non-null  category      \n",
      " 5   date         444448 non-null  datetime64[ns]\n",
      " 6   vru_entry    444448 non-null  datetime64[ns]\n",
      " 7   vru_exit     444448 non-null  datetime64[ns]\n",
      " 8   vru_time     444448 non-null  int64         \n",
      " 9   q_start      444448 non-null  datetime64[ns]\n",
      " 10  q_exit       444448 non-null  datetime64[ns]\n",
      " 11  q_time       444448 non-null  int64         \n",
      " 12  outcome      444448 non-null  category      \n",
      " 13  ser_start    444448 non-null  datetime64[ns]\n",
      " 14  ser_exit     444448 non-null  datetime64[ns]\n",
      " 15  ser_time     444448 non-null  int64         \n",
      " 16  server       444448 non-null  category      \n",
      " 17  startdate    444448 non-null  int64         \n",
      "dtypes: category(4), datetime64[ns](7), int64(4), object(3)\n",
      "memory usage: 49.2+ MB\n"
     ]
    }
   ],
   "source": [
    "#Verificamos que los cambios se hayan realizado con exito\n",
    "archivo.info()"
   ]
  },
  {
   "cell_type": "markdown",
   "metadata": {},
   "source": [
    "A continuacion se detallan algunas razones por las cuales el tipo de dato continua apareciendo como object cuando se convirtio a str: <br>\n",
    "-Versiones de Pandas:<br>\n",
    "Las versiones más recientes de pandas a veces optimizan la forma en que manejan ciertos tipos de datos, y esto puede influir en cómo se etiquetan internamente las columnas.<br>\n",
    "\n",
    "-Visualización y Presentación:<br>\n",
    "Al imprimir o mostrar el DataFrame, pandas a menudo etiquetará las columnas de tipo str como object por razones de presentación. Esto no afecta las operaciones que puedes realizar en la columna."
   ]
  },
  {
   "cell_type": "code",
   "execution_count": 10,
   "metadata": {},
   "outputs": [
    {
     "data": {
      "text/html": [
       "<div>\n",
       "<style scoped>\n",
       "    .dataframe tbody tr th:only-of-type {\n",
       "        vertical-align: middle;\n",
       "    }\n",
       "\n",
       "    .dataframe tbody tr th {\n",
       "        vertical-align: top;\n",
       "    }\n",
       "\n",
       "    .dataframe thead th {\n",
       "        text-align: right;\n",
       "    }\n",
       "</style>\n",
       "<table border=\"1\" class=\"dataframe\">\n",
       "  <thead>\n",
       "    <tr style=\"text-align: right;\">\n",
       "      <th></th>\n",
       "      <th>date</th>\n",
       "      <th>vru_entry</th>\n",
       "      <th>vru_exit</th>\n",
       "      <th>vru_time</th>\n",
       "      <th>q_start</th>\n",
       "      <th>q_exit</th>\n",
       "      <th>q_time</th>\n",
       "      <th>ser_start</th>\n",
       "      <th>ser_exit</th>\n",
       "      <th>ser_time</th>\n",
       "      <th>startdate</th>\n",
       "    </tr>\n",
       "  </thead>\n",
       "  <tbody>\n",
       "    <tr>\n",
       "      <th>count</th>\n",
       "      <td>444448</td>\n",
       "      <td>444448</td>\n",
       "      <td>444448</td>\n",
       "      <td>444448.000000</td>\n",
       "      <td>444448</td>\n",
       "      <td>444448</td>\n",
       "      <td>444448.000000</td>\n",
       "      <td>444448</td>\n",
       "      <td>444448</td>\n",
       "      <td>444448.000000</td>\n",
       "      <td>444448.000000</td>\n",
       "    </tr>\n",
       "    <tr>\n",
       "      <th>mean</th>\n",
       "      <td>1999-07-06 09:55:09.633522944</td>\n",
       "      <td>2023-11-01 14:27:15.241546496</td>\n",
       "      <td>2023-11-01 14:27:25.527627776</td>\n",
       "      <td>10.286081</td>\n",
       "      <td>2023-11-01 08:29:01.435895808</td>\n",
       "      <td>2023-11-01 08:29:48.776292864</td>\n",
       "      <td>59.004304</td>\n",
       "      <td>2023-11-01 11:43:11.602028544</td>\n",
       "      <td>2023-11-01 11:44:47.382784512</td>\n",
       "      <td>152.561776</td>\n",
       "      <td>172.333974</td>\n",
       "    </tr>\n",
       "    <tr>\n",
       "      <th>min</th>\n",
       "      <td>1999-01-01 00:00:00</td>\n",
       "      <td>2023-11-01 00:00:01</td>\n",
       "      <td>2023-11-01 00:00:08</td>\n",
       "      <td>-362.000000</td>\n",
       "      <td>2023-11-01 00:00:00</td>\n",
       "      <td>2023-11-01 00:00:00</td>\n",
       "      <td>0.000000</td>\n",
       "      <td>2023-11-01 00:00:00</td>\n",
       "      <td>2023-11-01 00:00:00</td>\n",
       "      <td>0.000000</td>\n",
       "      <td>0.000000</td>\n",
       "    </tr>\n",
       "    <tr>\n",
       "      <th>25%</th>\n",
       "      <td>1999-04-11 00:00:00</td>\n",
       "      <td>2023-11-01 10:45:42</td>\n",
       "      <td>2023-11-01 10:45:51</td>\n",
       "      <td>6.000000</td>\n",
       "      <td>2023-11-01 00:00:00</td>\n",
       "      <td>2023-11-01 00:00:00</td>\n",
       "      <td>0.000000</td>\n",
       "      <td>2023-11-01 08:37:01</td>\n",
       "      <td>2023-11-01 08:38:59</td>\n",
       "      <td>12.000000</td>\n",
       "      <td>90.000000</td>\n",
       "    </tr>\n",
       "    <tr>\n",
       "      <th>50%</th>\n",
       "      <td>1999-07-06 00:00:00</td>\n",
       "      <td>2023-11-01 14:03:55</td>\n",
       "      <td>2023-11-01 14:04:06</td>\n",
       "      <td>8.000000</td>\n",
       "      <td>2023-11-01 10:01:48</td>\n",
       "      <td>2023-11-01 10:03:29</td>\n",
       "      <td>16.000000</td>\n",
       "      <td>2023-11-01 12:23:49</td>\n",
       "      <td>2023-11-01 12:26:31</td>\n",
       "      <td>84.000000</td>\n",
       "      <td>181.000000</td>\n",
       "    </tr>\n",
       "    <tr>\n",
       "      <th>75%</th>\n",
       "      <td>1999-10-07 00:00:00</td>\n",
       "      <td>2023-11-01 17:43:51</td>\n",
       "      <td>2023-11-01 17:44:01</td>\n",
       "      <td>10.000000</td>\n",
       "      <td>2023-11-01 14:57:19.249999872</td>\n",
       "      <td>2023-11-01 14:59:05</td>\n",
       "      <td>79.000000</td>\n",
       "      <td>2023-11-01 16:50:35</td>\n",
       "      <td>2023-11-01 16:52:39.249999872</td>\n",
       "      <td>185.000000</td>\n",
       "      <td>273.000000</td>\n",
       "    </tr>\n",
       "    <tr>\n",
       "      <th>max</th>\n",
       "      <td>1999-12-31 00:00:00</td>\n",
       "      <td>2023-11-01 23:59:58</td>\n",
       "      <td>2023-11-01 23:59:59</td>\n",
       "      <td>4832.000000</td>\n",
       "      <td>2023-11-01 23:59:59</td>\n",
       "      <td>2023-11-01 23:59:59</td>\n",
       "      <td>28693.000000</td>\n",
       "      <td>2023-11-01 23:59:58</td>\n",
       "      <td>2023-11-01 23:59:59</td>\n",
       "      <td>61437.000000</td>\n",
       "      <td>334.000000</td>\n",
       "    </tr>\n",
       "    <tr>\n",
       "      <th>std</th>\n",
       "      <td>NaN</td>\n",
       "      <td>NaN</td>\n",
       "      <td>NaN</td>\n",
       "      <td>34.942136</td>\n",
       "      <td>NaN</td>\n",
       "      <td>NaN</td>\n",
       "      <td>119.470328</td>\n",
       "      <td>NaN</td>\n",
       "      <td>NaN</td>\n",
       "      <td>282.372761</td>\n",
       "      <td>104.559247</td>\n",
       "    </tr>\n",
       "  </tbody>\n",
       "</table>\n",
       "</div>"
      ],
      "text/plain": [
       "                                date                      vru_entry  \\\n",
       "count                         444448                         444448   \n",
       "mean   1999-07-06 09:55:09.633522944  2023-11-01 14:27:15.241546496   \n",
       "min              1999-01-01 00:00:00            2023-11-01 00:00:01   \n",
       "25%              1999-04-11 00:00:00            2023-11-01 10:45:42   \n",
       "50%              1999-07-06 00:00:00            2023-11-01 14:03:55   \n",
       "75%              1999-10-07 00:00:00            2023-11-01 17:43:51   \n",
       "max              1999-12-31 00:00:00            2023-11-01 23:59:58   \n",
       "std                              NaN                            NaN   \n",
       "\n",
       "                            vru_exit       vru_time  \\\n",
       "count                         444448  444448.000000   \n",
       "mean   2023-11-01 14:27:25.527627776      10.286081   \n",
       "min              2023-11-01 00:00:08    -362.000000   \n",
       "25%              2023-11-01 10:45:51       6.000000   \n",
       "50%              2023-11-01 14:04:06       8.000000   \n",
       "75%              2023-11-01 17:44:01      10.000000   \n",
       "max              2023-11-01 23:59:59    4832.000000   \n",
       "std                              NaN      34.942136   \n",
       "\n",
       "                             q_start                         q_exit  \\\n",
       "count                         444448                         444448   \n",
       "mean   2023-11-01 08:29:01.435895808  2023-11-01 08:29:48.776292864   \n",
       "min              2023-11-01 00:00:00            2023-11-01 00:00:00   \n",
       "25%              2023-11-01 00:00:00            2023-11-01 00:00:00   \n",
       "50%              2023-11-01 10:01:48            2023-11-01 10:03:29   \n",
       "75%    2023-11-01 14:57:19.249999872            2023-11-01 14:59:05   \n",
       "max              2023-11-01 23:59:59            2023-11-01 23:59:59   \n",
       "std                              NaN                            NaN   \n",
       "\n",
       "              q_time                      ser_start  \\\n",
       "count  444448.000000                         444448   \n",
       "mean       59.004304  2023-11-01 11:43:11.602028544   \n",
       "min         0.000000            2023-11-01 00:00:00   \n",
       "25%         0.000000            2023-11-01 08:37:01   \n",
       "50%        16.000000            2023-11-01 12:23:49   \n",
       "75%        79.000000            2023-11-01 16:50:35   \n",
       "max     28693.000000            2023-11-01 23:59:58   \n",
       "std       119.470328                            NaN   \n",
       "\n",
       "                            ser_exit       ser_time      startdate  \n",
       "count                         444448  444448.000000  444448.000000  \n",
       "mean   2023-11-01 11:44:47.382784512     152.561776     172.333974  \n",
       "min              2023-11-01 00:00:00       0.000000       0.000000  \n",
       "25%              2023-11-01 08:38:59      12.000000      90.000000  \n",
       "50%              2023-11-01 12:26:31      84.000000     181.000000  \n",
       "75%    2023-11-01 16:52:39.249999872     185.000000     273.000000  \n",
       "max              2023-11-01 23:59:59   61437.000000     334.000000  \n",
       "std                              NaN     282.372761     104.559247  "
      ]
     },
     "execution_count": 10,
     "metadata": {},
     "output_type": "execute_result"
    }
   ],
   "source": [
    "#Estadistica descriptiva para variables numericas\n",
    "archivo.describe()\n",
    "#Se verifica que vru_time tiene valores negativos que no corresponden"
   ]
  },
  {
   "cell_type": "code",
   "execution_count": 11,
   "metadata": {},
   "outputs": [
    {
     "data": {
      "text/html": [
       "<div>\n",
       "<style scoped>\n",
       "    .dataframe tbody tr th:only-of-type {\n",
       "        vertical-align: middle;\n",
       "    }\n",
       "\n",
       "    .dataframe tbody tr th {\n",
       "        vertical-align: top;\n",
       "    }\n",
       "\n",
       "    .dataframe thead th {\n",
       "        text-align: right;\n",
       "    }\n",
       "</style>\n",
       "<table border=\"1\" class=\"dataframe\">\n",
       "  <thead>\n",
       "    <tr style=\"text-align: right;\">\n",
       "      <th></th>\n",
       "      <th>vru.line</th>\n",
       "      <th>call_id</th>\n",
       "      <th>customer_id</th>\n",
       "      <th>priority</th>\n",
       "      <th>type</th>\n",
       "      <th>outcome</th>\n",
       "      <th>server</th>\n",
       "    </tr>\n",
       "  </thead>\n",
       "  <tbody>\n",
       "    <tr>\n",
       "      <th>count</th>\n",
       "      <td>444448</td>\n",
       "      <td>444448</td>\n",
       "      <td>444448.0</td>\n",
       "      <td>444448</td>\n",
       "      <td>444448</td>\n",
       "      <td>444448</td>\n",
       "      <td>444448</td>\n",
       "    </tr>\n",
       "    <tr>\n",
       "      <th>unique</th>\n",
       "      <td>30</td>\n",
       "      <td>54471</td>\n",
       "      <td>19048.0</td>\n",
       "      <td>3</td>\n",
       "      <td>8</td>\n",
       "      <td>3</td>\n",
       "      <td>53</td>\n",
       "    </tr>\n",
       "    <tr>\n",
       "      <th>top</th>\n",
       "      <td>AA0209</td>\n",
       "      <td>37585</td>\n",
       "      <td>0.0</td>\n",
       "      <td>0</td>\n",
       "      <td>PS</td>\n",
       "      <td>AGENT</td>\n",
       "      <td>NO_SERVER</td>\n",
       "    </tr>\n",
       "    <tr>\n",
       "      <th>freq</th>\n",
       "      <td>21423</td>\n",
       "      <td>16</td>\n",
       "      <td>178572.0</td>\n",
       "      <td>235168</td>\n",
       "      <td>302522</td>\n",
       "      <td>353143</td>\n",
       "      <td>96511</td>\n",
       "    </tr>\n",
       "  </tbody>\n",
       "</table>\n",
       "</div>"
      ],
      "text/plain": [
       "       vru.line call_id  customer_id  priority    type outcome     server\n",
       "count    444448  444448     444448.0    444448  444448  444448     444448\n",
       "unique       30   54471      19048.0         3       8       3         53\n",
       "top      AA0209   37585          0.0         0      PS   AGENT  NO_SERVER\n",
       "freq      21423      16     178572.0    235168  302522  353143      96511"
      ]
     },
     "execution_count": 11,
     "metadata": {},
     "output_type": "execute_result"
    }
   ],
   "source": [
    "#Estadistica descriptiva para variables categoricas\n",
    "archivo.describe(include=[\"category\",\"object\"])"
   ]
  },
  {
   "cell_type": "code",
   "execution_count": 14,
   "metadata": {},
   "outputs": [],
   "source": [
    "#Tenemos una variable llamada stardate que no se encuentra en el diccionario por lo que se elimina\n",
    "archivo= archivo.drop(columns=[\"startdate\"])"
   ]
  },
  {
   "cell_type": "code",
   "execution_count": 15,
   "metadata": {},
   "outputs": [
    {
     "data": {
      "text/plain": [
       "Index(['vru.line', 'call_id', 'customer_id', 'priority', 'type', 'date',\n",
       "       'vru_entry', 'vru_exit', 'vru_time', 'q_start', 'q_exit', 'q_time',\n",
       "       'outcome', 'ser_start', 'ser_exit', 'ser_time', 'server',\n",
       "       'unique_call_id'],\n",
       "      dtype='object')"
      ]
     },
     "execution_count": 15,
     "metadata": {},
     "output_type": "execute_result"
    }
   ],
   "source": [
    "#Verificamos que se haya eliminado la columna\n",
    "archivo.columns"
   ]
  },
  {
   "cell_type": "markdown",
   "metadata": {},
   "source": [
    "# Variables cuantitativas"
   ]
  },
  {
   "cell_type": "markdown",
   "metadata": {},
   "source": [
    "### 1) vru_time, vru_entry y vru_exit"
   ]
  },
  {
   "cell_type": "code",
   "execution_count": 33,
   "metadata": {},
   "outputs": [
    {
     "data": {
      "text/html": [
       "<div>\n",
       "<style scoped>\n",
       "    .dataframe tbody tr th:only-of-type {\n",
       "        vertical-align: middle;\n",
       "    }\n",
       "\n",
       "    .dataframe tbody tr th {\n",
       "        vertical-align: top;\n",
       "    }\n",
       "\n",
       "    .dataframe thead th {\n",
       "        text-align: right;\n",
       "    }\n",
       "</style>\n",
       "<table border=\"1\" class=\"dataframe\">\n",
       "  <thead>\n",
       "    <tr style=\"text-align: right;\">\n",
       "      <th></th>\n",
       "      <th>vru.line</th>\n",
       "      <th>call_id</th>\n",
       "      <th>customer_id</th>\n",
       "      <th>priority</th>\n",
       "      <th>type</th>\n",
       "      <th>date</th>\n",
       "      <th>vru_entry</th>\n",
       "      <th>vru_exit</th>\n",
       "      <th>vru_time</th>\n",
       "      <th>q_start</th>\n",
       "      <th>q_exit</th>\n",
       "      <th>q_time</th>\n",
       "      <th>outcome</th>\n",
       "      <th>ser_start</th>\n",
       "      <th>ser_exit</th>\n",
       "      <th>ser_time</th>\n",
       "      <th>server</th>\n",
       "      <th>unique_call_id</th>\n",
       "    </tr>\n",
       "  </thead>\n",
       "  <tbody>\n",
       "    <tr>\n",
       "      <th>2786</th>\n",
       "      <td>AA0214</td>\n",
       "      <td>12150</td>\n",
       "      <td>29680238.0</td>\n",
       "      <td>1</td>\n",
       "      <td>PS</td>\n",
       "      <td>1999-01-03</td>\n",
       "      <td>2023-11-01 13:55:04</td>\n",
       "      <td>2023-11-01 13:54:24</td>\n",
       "      <td>-40</td>\n",
       "      <td>2023-11-01 13:54:24</td>\n",
       "      <td>2023-11-01 13:56:10</td>\n",
       "      <td>106</td>\n",
       "      <td>AGENT</td>\n",
       "      <td>2023-11-01 13:56:09</td>\n",
       "      <td>2023-11-01 13:57:28</td>\n",
       "      <td>79</td>\n",
       "      <td>KAZAV</td>\n",
       "      <td>AA021412150</td>\n",
       "    </tr>\n",
       "    <tr>\n",
       "      <th>3484</th>\n",
       "      <td>AA0106</td>\n",
       "      <td>34252</td>\n",
       "      <td>59630624.0</td>\n",
       "      <td>1</td>\n",
       "      <td>PS</td>\n",
       "      <td>1999-01-04</td>\n",
       "      <td>2023-11-01 14:51:15</td>\n",
       "      <td>2023-11-01 14:50:33</td>\n",
       "      <td>-42</td>\n",
       "      <td>2023-11-01 14:50:33</td>\n",
       "      <td>2023-11-01 14:51:45</td>\n",
       "      <td>72</td>\n",
       "      <td>HANG</td>\n",
       "      <td>2023-11-01 00:00:00</td>\n",
       "      <td>2023-11-01 00:00:00</td>\n",
       "      <td>0</td>\n",
       "      <td>NO_SERVER</td>\n",
       "      <td>AA010634252</td>\n",
       "    </tr>\n",
       "    <tr>\n",
       "      <th>4226</th>\n",
       "      <td>AA0204</td>\n",
       "      <td>32267</td>\n",
       "      <td>58720558.0</td>\n",
       "      <td>2</td>\n",
       "      <td>PS</td>\n",
       "      <td>1999-01-04</td>\n",
       "      <td>2023-11-01 23:49:39</td>\n",
       "      <td>2023-11-01 23:48:48</td>\n",
       "      <td>-51</td>\n",
       "      <td>2023-11-01 23:48:48</td>\n",
       "      <td>2023-11-01 23:50:28</td>\n",
       "      <td>100</td>\n",
       "      <td>AGENT</td>\n",
       "      <td>2023-11-01 23:50:28</td>\n",
       "      <td>2023-11-01 23:52:17</td>\n",
       "      <td>109</td>\n",
       "      <td>BENSION</td>\n",
       "      <td>AA020432267</td>\n",
       "    </tr>\n",
       "    <tr>\n",
       "      <th>4476</th>\n",
       "      <td>AA0209</td>\n",
       "      <td>31205</td>\n",
       "      <td>25486903.0</td>\n",
       "      <td>2</td>\n",
       "      <td>PS</td>\n",
       "      <td>1999-01-04</td>\n",
       "      <td>2023-11-01 16:26:49</td>\n",
       "      <td>2023-11-01 16:25:58</td>\n",
       "      <td>-51</td>\n",
       "      <td>2023-11-01 16:25:58</td>\n",
       "      <td>2023-11-01 16:32:35</td>\n",
       "      <td>397</td>\n",
       "      <td>AGENT</td>\n",
       "      <td>2023-11-01 16:32:35</td>\n",
       "      <td>2023-11-01 16:33:54</td>\n",
       "      <td>79</td>\n",
       "      <td>YITZ</td>\n",
       "      <td>AA020931205</td>\n",
       "    </tr>\n",
       "    <tr>\n",
       "      <th>4559</th>\n",
       "      <td>AA0213</td>\n",
       "      <td>12195</td>\n",
       "      <td>17923889.0</td>\n",
       "      <td>0</td>\n",
       "      <td>PS</td>\n",
       "      <td>1999-01-04</td>\n",
       "      <td>2023-11-01 14:56:35</td>\n",
       "      <td>2023-11-01 14:55:40</td>\n",
       "      <td>-55</td>\n",
       "      <td>2023-11-01 14:55:40</td>\n",
       "      <td>2023-11-01 14:56:43</td>\n",
       "      <td>63</td>\n",
       "      <td>AGENT</td>\n",
       "      <td>2023-11-01 14:56:43</td>\n",
       "      <td>2023-11-01 14:58:59</td>\n",
       "      <td>136</td>\n",
       "      <td>MICHAL</td>\n",
       "      <td>AA021312195</td>\n",
       "    </tr>\n",
       "  </tbody>\n",
       "</table>\n",
       "</div>"
      ],
      "text/plain": [
       "     vru.line call_id customer_id priority type       date  \\\n",
       "2786   AA0214   12150  29680238.0        1   PS 1999-01-03   \n",
       "3484   AA0106   34252  59630624.0        1   PS 1999-01-04   \n",
       "4226   AA0204   32267  58720558.0        2   PS 1999-01-04   \n",
       "4476   AA0209   31205  25486903.0        2   PS 1999-01-04   \n",
       "4559   AA0213   12195  17923889.0        0   PS 1999-01-04   \n",
       "\n",
       "               vru_entry            vru_exit  vru_time             q_start  \\\n",
       "2786 2023-11-01 13:55:04 2023-11-01 13:54:24       -40 2023-11-01 13:54:24   \n",
       "3484 2023-11-01 14:51:15 2023-11-01 14:50:33       -42 2023-11-01 14:50:33   \n",
       "4226 2023-11-01 23:49:39 2023-11-01 23:48:48       -51 2023-11-01 23:48:48   \n",
       "4476 2023-11-01 16:26:49 2023-11-01 16:25:58       -51 2023-11-01 16:25:58   \n",
       "4559 2023-11-01 14:56:35 2023-11-01 14:55:40       -55 2023-11-01 14:55:40   \n",
       "\n",
       "                  q_exit  q_time outcome           ser_start  \\\n",
       "2786 2023-11-01 13:56:10     106   AGENT 2023-11-01 13:56:09   \n",
       "3484 2023-11-01 14:51:45      72    HANG 2023-11-01 00:00:00   \n",
       "4226 2023-11-01 23:50:28     100   AGENT 2023-11-01 23:50:28   \n",
       "4476 2023-11-01 16:32:35     397   AGENT 2023-11-01 16:32:35   \n",
       "4559 2023-11-01 14:56:43      63   AGENT 2023-11-01 14:56:43   \n",
       "\n",
       "                ser_exit  ser_time     server unique_call_id  \n",
       "2786 2023-11-01 13:57:28        79      KAZAV    AA021412150  \n",
       "3484 2023-11-01 00:00:00         0  NO_SERVER    AA010634252  \n",
       "4226 2023-11-01 23:52:17       109    BENSION    AA020432267  \n",
       "4476 2023-11-01 16:33:54        79       YITZ    AA020931205  \n",
       "4559 2023-11-01 14:58:59       136     MICHAL    AA021312195  "
      ]
     },
     "execution_count": 33,
     "metadata": {},
     "output_type": "execute_result"
    }
   ],
   "source": [
    "archivo[archivo[\"vru_time\"]<0].head(5)"
   ]
  },
  {
   "cell_type": "code",
   "execution_count": 25,
   "metadata": {},
   "outputs": [
    {
     "name": "stdout",
     "output_type": "stream",
     "text": [
      "La cantidad de valores negativos es:350\n",
      "El porcentaje de valores negativos sobre el total es de:0.08\n"
     ]
    }
   ],
   "source": [
    "# Filtra las filas donde vru_time es negativo \n",
    "valores_neg= (archivo[\"vru_time\"]< 0).sum()\n",
    "print(f\"La cantidad de valores negativos es:{valores_neg}\")\n",
    "porcentaje_negativos= round((valores_neg/archivo[\"vru_time\"].count())*100, 2)\n",
    "print(f\"El porcentaje de valores negativos sobre el total es de:{porcentaje_negativos}\")\n"
   ]
  },
  {
   "cell_type": "code",
   "execution_count": 27,
   "metadata": {},
   "outputs": [
    {
     "data": {
      "image/png": "[encoded data removed]",
      "text/plain": [
       "<Figure size 1000x600 with 1 Axes>"
      ]
     },
     "metadata": {},
     "output_type": "display_data"
    }
   ],
   "source": [
    "archivo_negativo = archivo[archivo['vru_time'] < 0]\n",
    "plt.figure(figsize=(10, 6))\n",
    "sns.countplot(x='outcome', data=archivo_negativo)\n",
    "plt.title('Distribución de Outcome para vru_time negativo')\n",
    "plt.xlabel('Outcome')\n",
    "plt.ylabel('Cantidad')\n",
    "plt.xticks(rotation=45)\n",
    "plt.show()"
   ]
  },
  {
   "cell_type": "markdown",
   "metadata": {},
   "source": [
    "En este caso se verifica que una gran cantidad de las llamadas que tienen un vru_time negativo tienen como outcome = agent lo que significa que se dio servicio por lo que podemos concluir que es un error de calculo debido a que parecen estar invertidos los datos de vru_entry y vru_exit"
   ]
  },
  {
   "cell_type": "markdown",
   "metadata": {},
   "source": [
    "Se crean nuevas columnas con los valores corregidos de vru_entry y vru_exit para poder crear la columna de vru_time corregida"
   ]
  },
  {
   "cell_type": "code",
   "execution_count": 43,
   "metadata": {},
   "outputs": [],
   "source": [
    "#archivo['nueva_columna'] = np.where(condicion, valor_si_condicion_verdadera, valor_si_condicion_falsa)\n",
    "archivo[\"vru_entry_corregido\"]= np.where(archivo['vru_entry'] > archivo['vru_exit'], archivo['vru_exit'], archivo['vru_entry'])\n",
    "archivo[\"vru_exit_corregido\"]= np.where(archivo['vru_entry'] > archivo['vru_exit'], archivo['vru_entry'], archivo['vru_exit'])"
   ]
  },
  {
   "cell_type": "code",
   "execution_count": 44,
   "metadata": {},
   "outputs": [
    {
     "data": {
      "text/html": [
       "<div>\n",
       "<style scoped>\n",
       "    .dataframe tbody tr th:only-of-type {\n",
       "        vertical-align: middle;\n",
       "    }\n",
       "\n",
       "    .dataframe tbody tr th {\n",
       "        vertical-align: top;\n",
       "    }\n",
       "\n",
       "    .dataframe thead th {\n",
       "        text-align: right;\n",
       "    }\n",
       "</style>\n",
       "<table border=\"1\" class=\"dataframe\">\n",
       "  <thead>\n",
       "    <tr style=\"text-align: right;\">\n",
       "      <th></th>\n",
       "      <th>vru.line</th>\n",
       "      <th>call_id</th>\n",
       "      <th>customer_id</th>\n",
       "      <th>priority</th>\n",
       "      <th>type</th>\n",
       "      <th>date</th>\n",
       "      <th>vru_entry</th>\n",
       "      <th>vru_exit</th>\n",
       "      <th>vru_time</th>\n",
       "      <th>q_start</th>\n",
       "      <th>...</th>\n",
       "      <th>q_time</th>\n",
       "      <th>outcome</th>\n",
       "      <th>ser_start</th>\n",
       "      <th>ser_exit</th>\n",
       "      <th>ser_time</th>\n",
       "      <th>server</th>\n",
       "      <th>unique_call_id</th>\n",
       "      <th>vru_entry_corregido</th>\n",
       "      <th>vru_exit_corregido</th>\n",
       "      <th>vru_time_corregido</th>\n",
       "    </tr>\n",
       "  </thead>\n",
       "  <tbody>\n",
       "    <tr>\n",
       "      <th>2786</th>\n",
       "      <td>AA0214</td>\n",
       "      <td>12150</td>\n",
       "      <td>29680238.0</td>\n",
       "      <td>1</td>\n",
       "      <td>PS</td>\n",
       "      <td>1999-01-03</td>\n",
       "      <td>2023-11-01 13:55:04</td>\n",
       "      <td>2023-11-01 13:54:24</td>\n",
       "      <td>-40</td>\n",
       "      <td>2023-11-01 13:54:24</td>\n",
       "      <td>...</td>\n",
       "      <td>106</td>\n",
       "      <td>AGENT</td>\n",
       "      <td>2023-11-01 13:56:09</td>\n",
       "      <td>2023-11-01 13:57:28</td>\n",
       "      <td>79</td>\n",
       "      <td>KAZAV</td>\n",
       "      <td>AA021412150</td>\n",
       "      <td>2023-11-01 13:54:24</td>\n",
       "      <td>2023-11-01 13:55:04</td>\n",
       "      <td>40</td>\n",
       "    </tr>\n",
       "    <tr>\n",
       "      <th>3484</th>\n",
       "      <td>AA0106</td>\n",
       "      <td>34252</td>\n",
       "      <td>59630624.0</td>\n",
       "      <td>1</td>\n",
       "      <td>PS</td>\n",
       "      <td>1999-01-04</td>\n",
       "      <td>2023-11-01 14:51:15</td>\n",
       "      <td>2023-11-01 14:50:33</td>\n",
       "      <td>-42</td>\n",
       "      <td>2023-11-01 14:50:33</td>\n",
       "      <td>...</td>\n",
       "      <td>72</td>\n",
       "      <td>HANG</td>\n",
       "      <td>2023-11-01 00:00:00</td>\n",
       "      <td>2023-11-01 00:00:00</td>\n",
       "      <td>0</td>\n",
       "      <td>NO_SERVER</td>\n",
       "      <td>AA010634252</td>\n",
       "      <td>2023-11-01 14:50:33</td>\n",
       "      <td>2023-11-01 14:51:15</td>\n",
       "      <td>42</td>\n",
       "    </tr>\n",
       "    <tr>\n",
       "      <th>4226</th>\n",
       "      <td>AA0204</td>\n",
       "      <td>32267</td>\n",
       "      <td>58720558.0</td>\n",
       "      <td>2</td>\n",
       "      <td>PS</td>\n",
       "      <td>1999-01-04</td>\n",
       "      <td>2023-11-01 23:49:39</td>\n",
       "      <td>2023-11-01 23:48:48</td>\n",
       "      <td>-51</td>\n",
       "      <td>2023-11-01 23:48:48</td>\n",
       "      <td>...</td>\n",
       "      <td>100</td>\n",
       "      <td>AGENT</td>\n",
       "      <td>2023-11-01 23:50:28</td>\n",
       "      <td>2023-11-01 23:52:17</td>\n",
       "      <td>109</td>\n",
       "      <td>BENSION</td>\n",
       "      <td>AA020432267</td>\n",
       "      <td>2023-11-01 23:48:48</td>\n",
       "      <td>2023-11-01 23:49:39</td>\n",
       "      <td>51</td>\n",
       "    </tr>\n",
       "    <tr>\n",
       "      <th>4476</th>\n",
       "      <td>AA0209</td>\n",
       "      <td>31205</td>\n",
       "      <td>25486903.0</td>\n",
       "      <td>2</td>\n",
       "      <td>PS</td>\n",
       "      <td>1999-01-04</td>\n",
       "      <td>2023-11-01 16:26:49</td>\n",
       "      <td>2023-11-01 16:25:58</td>\n",
       "      <td>-51</td>\n",
       "      <td>2023-11-01 16:25:58</td>\n",
       "      <td>...</td>\n",
       "      <td>397</td>\n",
       "      <td>AGENT</td>\n",
       "      <td>2023-11-01 16:32:35</td>\n",
       "      <td>2023-11-01 16:33:54</td>\n",
       "      <td>79</td>\n",
       "      <td>YITZ</td>\n",
       "      <td>AA020931205</td>\n",
       "      <td>2023-11-01 16:25:58</td>\n",
       "      <td>2023-11-01 16:26:49</td>\n",
       "      <td>51</td>\n",
       "    </tr>\n",
       "    <tr>\n",
       "      <th>4559</th>\n",
       "      <td>AA0213</td>\n",
       "      <td>12195</td>\n",
       "      <td>17923889.0</td>\n",
       "      <td>0</td>\n",
       "      <td>PS</td>\n",
       "      <td>1999-01-04</td>\n",
       "      <td>2023-11-01 14:56:35</td>\n",
       "      <td>2023-11-01 14:55:40</td>\n",
       "      <td>-55</td>\n",
       "      <td>2023-11-01 14:55:40</td>\n",
       "      <td>...</td>\n",
       "      <td>63</td>\n",
       "      <td>AGENT</td>\n",
       "      <td>2023-11-01 14:56:43</td>\n",
       "      <td>2023-11-01 14:58:59</td>\n",
       "      <td>136</td>\n",
       "      <td>MICHAL</td>\n",
       "      <td>AA021312195</td>\n",
       "      <td>2023-11-01 14:55:40</td>\n",
       "      <td>2023-11-01 14:56:35</td>\n",
       "      <td>55</td>\n",
       "    </tr>\n",
       "  </tbody>\n",
       "</table>\n",
       "<p>5 rows × 21 columns</p>\n",
       "</div>"
      ],
      "text/plain": [
       "     vru.line call_id customer_id priority type       date  \\\n",
       "2786   AA0214   12150  29680238.0        1   PS 1999-01-03   \n",
       "3484   AA0106   34252  59630624.0        1   PS 1999-01-04   \n",
       "4226   AA0204   32267  58720558.0        2   PS 1999-01-04   \n",
       "4476   AA0209   31205  25486903.0        2   PS 1999-01-04   \n",
       "4559   AA0213   12195  17923889.0        0   PS 1999-01-04   \n",
       "\n",
       "               vru_entry            vru_exit  vru_time             q_start  \\\n",
       "2786 2023-11-01 13:55:04 2023-11-01 13:54:24       -40 2023-11-01 13:54:24   \n",
       "3484 2023-11-01 14:51:15 2023-11-01 14:50:33       -42 2023-11-01 14:50:33   \n",
       "4226 2023-11-01 23:49:39 2023-11-01 23:48:48       -51 2023-11-01 23:48:48   \n",
       "4476 2023-11-01 16:26:49 2023-11-01 16:25:58       -51 2023-11-01 16:25:58   \n",
       "4559 2023-11-01 14:56:35 2023-11-01 14:55:40       -55 2023-11-01 14:55:40   \n",
       "\n",
       "      ... q_time  outcome           ser_start            ser_exit ser_time  \\\n",
       "2786  ...    106    AGENT 2023-11-01 13:56:09 2023-11-01 13:57:28       79   \n",
       "3484  ...     72     HANG 2023-11-01 00:00:00 2023-11-01 00:00:00        0   \n",
       "4226  ...    100    AGENT 2023-11-01 23:50:28 2023-11-01 23:52:17      109   \n",
       "4476  ...    397    AGENT 2023-11-01 16:32:35 2023-11-01 16:33:54       79   \n",
       "4559  ...     63    AGENT 2023-11-01 14:56:43 2023-11-01 14:58:59      136   \n",
       "\n",
       "         server unique_call_id vru_entry_corregido  vru_exit_corregido  \\\n",
       "2786      KAZAV    AA021412150 2023-11-01 13:54:24 2023-11-01 13:55:04   \n",
       "3484  NO_SERVER    AA010634252 2023-11-01 14:50:33 2023-11-01 14:51:15   \n",
       "4226    BENSION    AA020432267 2023-11-01 23:48:48 2023-11-01 23:49:39   \n",
       "4476       YITZ    AA020931205 2023-11-01 16:25:58 2023-11-01 16:26:49   \n",
       "4559     MICHAL    AA021312195 2023-11-01 14:55:40 2023-11-01 14:56:35   \n",
       "\n",
       "     vru_time_corregido  \n",
       "2786                 40  \n",
       "3484                 42  \n",
       "4226                 51  \n",
       "4476                 51  \n",
       "4559                 55  \n",
       "\n",
       "[5 rows x 21 columns]"
      ]
     },
     "execution_count": 44,
     "metadata": {},
     "output_type": "execute_result"
    }
   ],
   "source": [
    "archivo[\"vru_time_corregido\"] = (archivo[\"vru_exit_corregido\"] - archivo[\"vru_entry_corregido\"]).dt.total_seconds()\n",
    "archivo[\"vru_time_corregido\"]= archivo[\"vru_time_corregido\"].astype(\"Int64\")\n",
    "archivo[archivo[\"vru_time\"]<0].head(5)"
   ]
  },
  {
   "cell_type": "code",
   "execution_count": 47,
   "metadata": {},
   "outputs": [
    {
     "name": "stdout",
     "output_type": "stream",
     "text": [
      "La cantidad de valores negativos es:0\n",
      "El porcentaje de valores negativos sobre el total es de:0.0\n"
     ]
    },
    {
     "data": {
      "text/plain": [
       "count     444448.0\n",
       "mean     10.396357\n",
       "std      34.909485\n",
       "min            0.0\n",
       "25%            6.0\n",
       "50%            8.0\n",
       "75%           10.0\n",
       "max         4832.0\n",
       "Name: vru_time_corregido, dtype: Float64"
      ]
     },
     "execution_count": 47,
     "metadata": {},
     "output_type": "execute_result"
    }
   ],
   "source": [
    "# Verificamos que no quede ningun valor negativo en vru_time_corregido\n",
    "valores_neg2= (archivo[\"vru_time_corregido\"]< 0).sum()\n",
    "print(f\"La cantidad de valores negativos es:{valores_neg2}\")\n",
    "porcentaje_negativos2= round((valores_neg2/archivo[\"vru_time\"].count())*100, 2)\n",
    "print(f\"El porcentaje de valores negativos sobre el total es de:{porcentaje_negativos2}\")\n",
    "archivo[\"vru_time_corregido\"].describe()"
   ]
  },
  {
   "cell_type": "markdown",
   "metadata": {},
   "source": [
    "### 2) Date"
   ]
  },
  {
   "cell_type": "code",
   "execution_count": 46,
   "metadata": {},
   "outputs": [
    {
     "name": "stdout",
     "output_type": "stream",
     "text": [
      "Mes\n",
      "1     31599\n",
      "2     33344\n",
      "3     38801\n",
      "4     32036\n",
      "5     39553\n",
      "6     37935\n",
      "7     39022\n",
      "8     42078\n",
      "9     31371\n",
      "10    34625\n",
      "11    41019\n",
      "12    43065\n",
      "dtype: int64\n"
     ]
    },
    {
     "data": {
      "text/plain": [
       "Text(0, 0.5, 'Cantidad de llamados')"
      ]
     },
     "execution_count": 46,
     "metadata": {},
     "output_type": "execute_result"
    },
    {
     "data": {
      "image/png": "[encoded data removed]",
      "text/plain": [
       "<Figure size 640x480 with 1 Axes>"
      ]
     },
     "metadata": {},
     "output_type": "display_data"
    }
   ],
   "source": [
    "#Realizamos una grafica de cantidad de llamadas por mes \n",
    "archivo[\"Mes\"]= archivo[\"date\"].dt.month\n",
    "llamadas_por_mes = archivo.groupby(\"Mes\").size()\n",
    "print(llamadas_por_mes)\n",
    "sns.barplot(data=llamadas_por_mes)\n",
    "plt.title(\"Cantidad de llamadas por mes\")\n",
    "plt.ylabel(\"Cantidad de llamados\")"
   ]
  },
  {
   "cell_type": "markdown",
   "metadata": {},
   "source": [
    "En este caso se verifica que los meses que se recibieron menos llamados son enero, abril y septiembre mientras que los meses que se recibieron mas llamados son agosto y diciembre"
   ]
  },
  {
   "cell_type": "markdown",
   "metadata": {},
   "source": [
    "### 3) q_start, q_exit y q_time"
   ]
  },
  {
   "cell_type": "code",
   "execution_count": 61,
   "metadata": {},
   "outputs": [
    {
     "data": {
      "image/png": "[encoded data removed]",
      "text/plain": [
       "<Figure size 1000x400 with 2 Axes>"
      ]
     },
     "metadata": {},
     "output_type": "display_data"
    }
   ],
   "source": [
    "fig, (ax1, ax2) = plt.subplots(1, 2, figsize=(10, 4), sharey=True)\n",
    "sns.histplot(data=archivo, x=(archivo['q_start'] - archivo['q_start'].dt.normalize()) / pd.Timedelta(hours=1), bins=24, kde=True, ax=ax1)\n",
    "sns.histplot(data=archivo, x=(archivo['q_exit'] - archivo['q_exit'].dt.normalize()) / pd.Timedelta(hours=1), bins=24, kde=True, ax=ax2)\n",
    "\n",
    "ax1.set_xlabel('q_start') ; ax1.set_ylabel('Conteo')\n",
    "ax2.set_xlabel('q_exit')\n",
    "plt.suptitle('Distribucion de tiempo de espera de llamadas a lo largo del dia ')\n",
    "plt.tight_layout()\n",
    "plt.show()"
   ]
  },
  {
   "cell_type": "code",
   "execution_count": 62,
   "metadata": {},
   "outputs": [
    {
     "name": "stdout",
     "output_type": "stream",
     "text": [
      "El porcentaje de clientes que abandonaron la llamada es: 40.69%\n"
     ]
    }
   ],
   "source": [
    "conteo_medianoche = (archivo['q_start'].dt.time == pd.to_datetime('00:00:00').time()).sum()\n",
    "total_llamadas = archivo['q_start'].count()\n",
    "porcentaje_decortes = round(conteo_medianoche / total_llamadas * 100, 2)\n",
    "print(f\"El porcentaje de clientes que abandonaron la llamada es: {porcentaje_decortes}%\")"
   ]
  },
  {
   "cell_type": "markdown",
   "metadata": {},
   "source": [
    "Los valores altos en cero indican que un número significativo de llamadas fueron abandonadas por los clientes mientras estaban en la cola. Esto es un problema importante, ya que las llamadas abandonadas pueden indicar que los clientes están descontentos con el servicio o que no pueden esperar en la cola."
   ]
  },
  {
   "cell_type": "markdown",
   "metadata": {},
   "source": [
    "Observando el grafico tambien hay que tener en cuenta que los clientes con prioridad alta se les asigna 1.5 minutos mas para avanzar en la cola por lo que hay que modificar esos datos para tener los reales "
   ]
  },
  {
   "cell_type": "code",
   "execution_count": 71,
   "metadata": {},
   "outputs": [
    {
     "data": {
      "text/html": [
       "<div>\n",
       "<style scoped>\n",
       "    .dataframe tbody tr th:only-of-type {\n",
       "        vertical-align: middle;\n",
       "    }\n",
       "\n",
       "    .dataframe tbody tr th {\n",
       "        vertical-align: top;\n",
       "    }\n",
       "\n",
       "    .dataframe thead th {\n",
       "        text-align: right;\n",
       "    }\n",
       "</style>\n",
       "<table border=\"1\" class=\"dataframe\">\n",
       "  <thead>\n",
       "    <tr style=\"text-align: right;\">\n",
       "      <th></th>\n",
       "      <th>q_start</th>\n",
       "      <th>q_exit</th>\n",
       "      <th>q_time</th>\n",
       "    </tr>\n",
       "  </thead>\n",
       "  <tbody>\n",
       "    <tr>\n",
       "      <th>0</th>\n",
       "      <td>2023-11-01 00:00:36</td>\n",
       "      <td>2023-11-01 00:03:09</td>\n",
       "      <td>153</td>\n",
       "    </tr>\n",
       "    <tr>\n",
       "      <th>2</th>\n",
       "      <td>2023-11-01 06:55:26</td>\n",
       "      <td>2023-11-01 06:55:43</td>\n",
       "      <td>17</td>\n",
       "    </tr>\n",
       "    <tr>\n",
       "      <th>7</th>\n",
       "      <td>2023-11-01 08:42:19</td>\n",
       "      <td>2023-11-01 08:42:23</td>\n",
       "      <td>4</td>\n",
       "    </tr>\n",
       "    <tr>\n",
       "      <th>9</th>\n",
       "      <td>2023-11-01 09:04:10</td>\n",
       "      <td>2023-11-01 09:04:56</td>\n",
       "      <td>46</td>\n",
       "    </tr>\n",
       "    <tr>\n",
       "      <th>11</th>\n",
       "      <td>2023-11-01 09:27:09</td>\n",
       "      <td>2023-11-01 09:28:00</td>\n",
       "      <td>51</td>\n",
       "    </tr>\n",
       "  </tbody>\n",
       "</table>\n",
       "</div>"
      ],
      "text/plain": [
       "               q_start              q_exit  q_time\n",
       "0  2023-11-01 00:00:36 2023-11-01 00:03:09     153\n",
       "2  2023-11-01 06:55:26 2023-11-01 06:55:43      17\n",
       "7  2023-11-01 08:42:19 2023-11-01 08:42:23       4\n",
       "9  2023-11-01 09:04:10 2023-11-01 09:04:56      46\n",
       "11 2023-11-01 09:27:09 2023-11-01 09:28:00      51"
      ]
     },
     "execution_count": 71,
     "metadata": {},
     "output_type": "execute_result"
    }
   ],
   "source": [
    "condicion = archivo[\"priority\"] == 2\n",
    "archivo_filtrado = archivo.loc[condicion, [\"q_start\", \"q_exit\", \"q_time\"]]\n",
    "archivo_filtrado.head()"
   ]
  },
  {
   "cell_type": "code",
   "execution_count": 73,
   "metadata": {},
   "outputs": [
    {
     "data": {
      "text/html": [
       "<div>\n",
       "<style scoped>\n",
       "    .dataframe tbody tr th:only-of-type {\n",
       "        vertical-align: middle;\n",
       "    }\n",
       "\n",
       "    .dataframe tbody tr th {\n",
       "        vertical-align: top;\n",
       "    }\n",
       "\n",
       "    .dataframe thead th {\n",
       "        text-align: right;\n",
       "    }\n",
       "</style>\n",
       "<table border=\"1\" class=\"dataframe\">\n",
       "  <thead>\n",
       "    <tr style=\"text-align: right;\">\n",
       "      <th></th>\n",
       "      <th>vru.line</th>\n",
       "      <th>call_id</th>\n",
       "      <th>customer_id</th>\n",
       "      <th>priority</th>\n",
       "      <th>type</th>\n",
       "      <th>date</th>\n",
       "      <th>vru_entry</th>\n",
       "      <th>vru_exit</th>\n",
       "      <th>vru_time</th>\n",
       "      <th>q_start</th>\n",
       "      <th>...</th>\n",
       "      <th>outcome</th>\n",
       "      <th>ser_start</th>\n",
       "      <th>ser_exit</th>\n",
       "      <th>ser_time</th>\n",
       "      <th>server</th>\n",
       "      <th>unique_call_id</th>\n",
       "      <th>vru_entry_corregido</th>\n",
       "      <th>vru_exit_corregido</th>\n",
       "      <th>vru_time_corregido</th>\n",
       "      <th>q_time_real</th>\n",
       "    </tr>\n",
       "  </thead>\n",
       "  <tbody>\n",
       "    <tr>\n",
       "      <th>0</th>\n",
       "      <td>AA0101</td>\n",
       "      <td>33116</td>\n",
       "      <td>9664491.0</td>\n",
       "      <td>2</td>\n",
       "      <td>PS</td>\n",
       "      <td>1999-01-01</td>\n",
       "      <td>2023-11-01 00:00:31</td>\n",
       "      <td>2023-11-01 00:00:36</td>\n",
       "      <td>5</td>\n",
       "      <td>2023-11-01 00:00:36</td>\n",
       "      <td>...</td>\n",
       "      <td>HANG</td>\n",
       "      <td>2023-11-01 00:00:00</td>\n",
       "      <td>2023-11-01 00:00:00</td>\n",
       "      <td>0</td>\n",
       "      <td>NO_SERVER</td>\n",
       "      <td>AA010133116</td>\n",
       "      <td>2023-11-01 00:00:31</td>\n",
       "      <td>2023-11-01 00:00:36</td>\n",
       "      <td>5</td>\n",
       "      <td>63</td>\n",
       "    </tr>\n",
       "    <tr>\n",
       "      <th>1</th>\n",
       "      <td>AA0101</td>\n",
       "      <td>33117</td>\n",
       "      <td>0.0</td>\n",
       "      <td>0</td>\n",
       "      <td>PS</td>\n",
       "      <td>1999-01-01</td>\n",
       "      <td>2023-11-01 00:34:12</td>\n",
       "      <td>2023-11-01 00:34:23</td>\n",
       "      <td>11</td>\n",
       "      <td>2023-11-01 00:00:00</td>\n",
       "      <td>...</td>\n",
       "      <td>HANG</td>\n",
       "      <td>2023-11-01 00:00:00</td>\n",
       "      <td>2023-11-01 00:00:00</td>\n",
       "      <td>0</td>\n",
       "      <td>NO_SERVER</td>\n",
       "      <td>AA010133117</td>\n",
       "      <td>2023-11-01 00:34:12</td>\n",
       "      <td>2023-11-01 00:34:23</td>\n",
       "      <td>11</td>\n",
       "      <td>0</td>\n",
       "    </tr>\n",
       "    <tr>\n",
       "      <th>2</th>\n",
       "      <td>AA0101</td>\n",
       "      <td>33118</td>\n",
       "      <td>27997683.0</td>\n",
       "      <td>2</td>\n",
       "      <td>PS</td>\n",
       "      <td>1999-01-01</td>\n",
       "      <td>2023-11-01 06:55:20</td>\n",
       "      <td>2023-11-01 06:55:26</td>\n",
       "      <td>6</td>\n",
       "      <td>2023-11-01 06:55:26</td>\n",
       "      <td>...</td>\n",
       "      <td>AGENT</td>\n",
       "      <td>2023-11-01 06:55:43</td>\n",
       "      <td>2023-11-01 06:56:37</td>\n",
       "      <td>54</td>\n",
       "      <td>MICHAL</td>\n",
       "      <td>AA010133118</td>\n",
       "      <td>2023-11-01 06:55:20</td>\n",
       "      <td>2023-11-01 06:55:26</td>\n",
       "      <td>6</td>\n",
       "      <td>0</td>\n",
       "    </tr>\n",
       "    <tr>\n",
       "      <th>3</th>\n",
       "      <td>AA0101</td>\n",
       "      <td>33119</td>\n",
       "      <td>0.0</td>\n",
       "      <td>0</td>\n",
       "      <td>PS</td>\n",
       "      <td>1999-01-01</td>\n",
       "      <td>2023-11-01 07:41:16</td>\n",
       "      <td>2023-11-01 07:41:26</td>\n",
       "      <td>10</td>\n",
       "      <td>2023-11-01 00:00:00</td>\n",
       "      <td>...</td>\n",
       "      <td>AGENT</td>\n",
       "      <td>2023-11-01 07:41:25</td>\n",
       "      <td>2023-11-01 07:44:53</td>\n",
       "      <td>208</td>\n",
       "      <td>BASCH</td>\n",
       "      <td>AA010133119</td>\n",
       "      <td>2023-11-01 07:41:16</td>\n",
       "      <td>2023-11-01 07:41:26</td>\n",
       "      <td>10</td>\n",
       "      <td>0</td>\n",
       "    </tr>\n",
       "    <tr>\n",
       "      <th>4</th>\n",
       "      <td>AA0101</td>\n",
       "      <td>33120</td>\n",
       "      <td>0.0</td>\n",
       "      <td>0</td>\n",
       "      <td>PS</td>\n",
       "      <td>1999-01-01</td>\n",
       "      <td>2023-11-01 08:03:14</td>\n",
       "      <td>2023-11-01 08:03:24</td>\n",
       "      <td>10</td>\n",
       "      <td>2023-11-01 00:00:00</td>\n",
       "      <td>...</td>\n",
       "      <td>AGENT</td>\n",
       "      <td>2023-11-01 08:03:23</td>\n",
       "      <td>2023-11-01 08:05:10</td>\n",
       "      <td>107</td>\n",
       "      <td>MICHAL</td>\n",
       "      <td>AA010133120</td>\n",
       "      <td>2023-11-01 08:03:14</td>\n",
       "      <td>2023-11-01 08:03:24</td>\n",
       "      <td>10</td>\n",
       "      <td>0</td>\n",
       "    </tr>\n",
       "  </tbody>\n",
       "</table>\n",
       "<p>5 rows × 22 columns</p>\n",
       "</div>"
      ],
      "text/plain": [
       "  vru.line call_id customer_id priority type       date           vru_entry  \\\n",
       "0   AA0101   33116   9664491.0        2   PS 1999-01-01 2023-11-01 00:00:31   \n",
       "1   AA0101   33117         0.0        0   PS 1999-01-01 2023-11-01 00:34:12   \n",
       "2   AA0101   33118  27997683.0        2   PS 1999-01-01 2023-11-01 06:55:20   \n",
       "3   AA0101   33119         0.0        0   PS 1999-01-01 2023-11-01 07:41:16   \n",
       "4   AA0101   33120         0.0        0   PS 1999-01-01 2023-11-01 08:03:14   \n",
       "\n",
       "             vru_exit  vru_time             q_start  ... outcome  \\\n",
       "0 2023-11-01 00:00:36         5 2023-11-01 00:00:36  ...    HANG   \n",
       "1 2023-11-01 00:34:23        11 2023-11-01 00:00:00  ...    HANG   \n",
       "2 2023-11-01 06:55:26         6 2023-11-01 06:55:26  ...   AGENT   \n",
       "3 2023-11-01 07:41:26        10 2023-11-01 00:00:00  ...   AGENT   \n",
       "4 2023-11-01 08:03:24        10 2023-11-01 00:00:00  ...   AGENT   \n",
       "\n",
       "            ser_start            ser_exit ser_time     server  unique_call_id  \\\n",
       "0 2023-11-01 00:00:00 2023-11-01 00:00:00        0  NO_SERVER     AA010133116   \n",
       "1 2023-11-01 00:00:00 2023-11-01 00:00:00        0  NO_SERVER     AA010133117   \n",
       "2 2023-11-01 06:55:43 2023-11-01 06:56:37       54     MICHAL     AA010133118   \n",
       "3 2023-11-01 07:41:25 2023-11-01 07:44:53      208      BASCH     AA010133119   \n",
       "4 2023-11-01 08:03:23 2023-11-01 08:05:10      107     MICHAL     AA010133120   \n",
       "\n",
       "  vru_entry_corregido  vru_exit_corregido vru_time_corregido q_time_real  \n",
       "0 2023-11-01 00:00:31 2023-11-01 00:00:36                  5          63  \n",
       "1 2023-11-01 00:34:12 2023-11-01 00:34:23                 11           0  \n",
       "2 2023-11-01 06:55:20 2023-11-01 06:55:26                  6           0  \n",
       "3 2023-11-01 07:41:16 2023-11-01 07:41:26                 10           0  \n",
       "4 2023-11-01 08:03:14 2023-11-01 08:03:24                 10           0  \n",
       "\n",
       "[5 rows x 22 columns]"
      ]
     },
     "execution_count": 73,
     "metadata": {},
     "output_type": "execute_result"
    }
   ],
   "source": [
    "condiciones = [\n",
    "    (archivo['priority'] == 2),\n",
    "    (archivo['priority'] != 2)]\n",
    "\n",
    "valores = [np.maximum(archivo['q_time'] - 90, 0), \n",
    "    archivo['q_time'] ]\n",
    "\n",
    "archivo['q_time_real'] = np.select(condiciones, valores, default=0)\n",
    "archivo.head()"
   ]
  },
  {
   "cell_type": "code",
   "execution_count": 75,
   "metadata": {},
   "outputs": [
    {
     "data": {
      "image/png": "[encoded data removed]",
      "text/plain": [
       "<Figure size 640x480 with 1 Axes>"
      ]
     },
     "metadata": {},
     "output_type": "display_data"
    }
   ],
   "source": [
    "sns.boxplot(data=archivo, y='q_time_real')\n",
    "plt.ylabel('Tiempo Real de Espera')\n",
    "plt.title('Boxplot de q_time_real')\n",
    "plt.show()"
   ]
  },
  {
   "cell_type": "markdown",
   "metadata": {},
   "source": [
    "Se observan valores que superan los 25000 segundos de espera que representan outliers por lo que se quitan del grafico"
   ]
  },
  {
   "cell_type": "code",
   "execution_count": 80,
   "metadata": {},
   "outputs": [
    {
     "data": {
      "image/png": "[encoded data removed]",
      "text/plain": [
       "<Figure size 1400x600 with 1 Axes>"
      ]
     },
     "metadata": {},
     "output_type": "display_data"
    }
   ],
   "source": [
    "archivo= archivo[archivo[\"q_time_real\"]<20000]\n",
    "fig = plt.figure(figsize=(14, 6))\n",
    "sns.boxplot(data=archivo, x='q_time_real')\n",
    "plt.title('Boxplot de q_time_real')\n",
    "plt.show()"
   ]
  },
  {
   "cell_type": "markdown",
   "metadata": {},
   "source": [
    "### 4) ser_start, ser_exit y ser_time"
   ]
  },
  {
   "cell_type": "code",
   "execution_count": 68,
   "metadata": {},
   "outputs": [
    {
     "data": {
      "image/png": "[encoded data removed]",
      "text/plain": [
       "<Figure size 1000x400 with 2 Axes>"
      ]
     },
     "metadata": {},
     "output_type": "display_data"
    }
   ],
   "source": [
    "fig, (ax1, ax2) = plt.subplots(1, 2, figsize=(10, 4), sharey=True)\n",
    "sns.histplot(data=archivo, x=(archivo[\"ser_start\"] - archivo[\"ser_start\"].dt.normalize()) / pd.Timedelta(hours=1), bins=24, kde=True, ax=ax1)\n",
    "sns.histplot(data=archivo, x=(archivo[\"ser_exit\"] - archivo[\"ser_exit\"].dt.normalize()) / pd.Timedelta(hours=1), bins=24, kde=True, ax=ax2)\n",
    "\n",
    "ax1.set_xlabel(\"ser_start\") ; ax1.set_ylabel('Conteo')\n",
    "ax2.set_xlabel(\"ser_exit\")\n",
    "plt.suptitle('Distribucion de tiempo de servicio de llamadas a lo largo del dia ')\n",
    "plt.tight_layout()\n",
    "plt.show()"
   ]
  },
  {
   "cell_type": "markdown",
   "metadata": {},
   "source": [
    "# Variables cualitativas"
   ]
  },
  {
   "cell_type": "markdown",
   "metadata": {},
   "source": [
    "### 1) Vru_line"
   ]
  },
  {
   "cell_type": "code",
   "execution_count": null,
   "metadata": {},
   "outputs": [],
   "source": []
  },
  {
   "cell_type": "markdown",
   "metadata": {},
   "source": [
    "### 2) Call_id"
   ]
  },
  {
   "cell_type": "code",
   "execution_count": 57,
   "metadata": {},
   "outputs": [
    {
     "name": "stdout",
     "output_type": "stream",
     "text": [
      "Hay call_id duplicados.\n"
     ]
    }
   ],
   "source": [
    "#verificamos si tenemos call_id duplicados dado que es una variable identicatoria\n",
    "hay_duplicados = archivo['call_id'].duplicated().any()\n",
    "if hay_duplicados:\n",
    "    print(\"Hay call_id duplicados.\")\n",
    "else:\n",
    "    print(\"No hay call_id duplicados.\")\n",
    "\n",
    "#Tenemos que crear un call_id unico para cada llamada \n",
    "archivo[\"unique_call_id\"] = archivo[\"vru.line\"] + '' + archivo[\"call_id\"]"
   ]
  },
  {
   "cell_type": "code",
   "execution_count": 58,
   "metadata": {},
   "outputs": [
    {
     "name": "stdout",
     "output_type": "stream",
     "text": [
      "No hay valores duplicados en la columna 'unique_call_id'.\n"
     ]
    }
   ],
   "source": [
    "#Verificamos si la nueva variable tiene valores duplicados \n",
    "hay_duplicados2 = archivo['unique_call_id'].duplicated().any()\n",
    "\n",
    "# Imprimir el resultado\n",
    "if hay_duplicados2:\n",
    "    print(\"Hay valores duplicados en la columna 'unique_call_id'.\")\n",
    "else:\n",
    "    print(\"No hay valores duplicados en la columna 'unique_call_id'.\")"
   ]
  },
  {
   "cell_type": "markdown",
   "metadata": {},
   "source": [
    "### 3) Customer_id"
   ]
  },
  {
   "cell_type": "code",
   "execution_count": null,
   "metadata": {},
   "outputs": [],
   "source": []
  },
  {
   "cell_type": "markdown",
   "metadata": {},
   "source": [
    "### 4) Priority"
   ]
  },
  {
   "cell_type": "code",
   "execution_count": null,
   "metadata": {},
   "outputs": [],
   "source": []
  },
  {
   "cell_type": "markdown",
   "metadata": {},
   "source": [
    "### 5) Type"
   ]
  },
  {
   "cell_type": "code",
   "execution_count": 50,
   "metadata": {},
   "outputs": [
    {
     "data": {
      "text/plain": [
       "type\n",
       "PS     302522\n",
       "NW      67728\n",
       "NE      39342\n",
       "IN      20732\n",
       "TT      12289\n",
       "PE       1824\n",
       " TT         6\n",
       "AA          5\n",
       "Name: count, dtype: int64"
      ]
     },
     "execution_count": 50,
     "metadata": {},
     "output_type": "execute_result"
    }
   ],
   "source": [
    "archivo[\"type\"].value_counts()"
   ]
  },
  {
   "cell_type": "code",
   "execution_count": 52,
   "metadata": {},
   "outputs": [
    {
     "data": {
      "text/plain": [
       "type\n",
       "PS    302522\n",
       "NW     67728\n",
       "NE     39342\n",
       "IN     20732\n",
       "TT     12295\n",
       "PE      1824\n",
       "AA         5\n",
       "Name: count, dtype: int64"
      ]
     },
     "execution_count": 52,
     "metadata": {},
     "output_type": "execute_result"
    }
   ],
   "source": [
    "archivo[\"type\"] = archivo[\"type\"].str.strip()\n",
    "archivo[\"type\"].value_counts()"
   ]
  },
  {
   "cell_type": "code",
   "execution_count": 56,
   "metadata": {},
   "outputs": [
    {
     "data": {
      "image/png": "[encoded data removed]",
      "text/plain": [
       "<Figure size 640x480 with 1 Axes>"
      ]
     },
     "metadata": {},
     "output_type": "display_data"
    }
   ],
   "source": [
    "value_counts = archivo[\"type\"].value_counts()\n",
    "sns.barplot(x=value_counts.index, y=value_counts.values)\n",
    "plt.xlabel('Tipo')\n",
    "plt.ylabel('Cantidad')\n",
    "plt.title('Tipos de servicios mas requeridos')\n",
    "plt.xticks(rotation=45)  # Rotar etiquetas del eje X para mayor claridad\n",
    "plt.show()"
   ]
  },
  {
   "cell_type": "markdown",
   "metadata": {},
   "source": [
    "En este caso observamos que el servicio mas demandado por los clientes es PS lo que indica actividad regular"
   ]
  },
  {
   "cell_type": "markdown",
   "metadata": {},
   "source": [
    "### 6) Outcome"
   ]
  },
  {
   "cell_type": "code",
   "execution_count": null,
   "metadata": {},
   "outputs": [],
   "source": []
  },
  {
   "cell_type": "markdown",
   "metadata": {},
   "source": [
    "### 7) Server"
   ]
  },
  {
   "cell_type": "code",
   "execution_count": null,
   "metadata": {},
   "outputs": [],
   "source": []
  }
 ],
 "metadata": {
  "kernelspec": {
   "display_name": "Python 3",
   "language": "python",
   "name": "python3"
  },
  "language_info": {
   "codemirror_mode": {
    "name": "ipython",
    "version": 3
   },
   "file_extension": ".py",
   "mimetype": "text/x-python",
   "name": "python",
   "nbconvert_exporter": "python",
   "pygments_lexer": "ipython3",
   "version": "3.11.6"
  }
 },
 "nbformat": 4,
 "nbformat_minor": 2
}
